{
 "cells": [
  {
   "cell_type": "code",
   "execution_count": 1,
   "metadata": {},
   "outputs": [],
   "source": [
    "import gym\n",
    "from IPython import display\n",
    "import matplotlib\n",
    "import matplotlib.pyplot as plt\n",
    "import gym_minigrid\n",
    "from gym import wrappers\n",
    "import utils\n",
    "from time import time \n",
    "import os\n",
    "import time\n"
   ]
  },
  {
   "cell_type": "code",
   "execution_count": 2,
   "metadata": {},
   "outputs": [],
   "source": [
    "envname = 'MiniGrid-GridCity-4S30Static-v0'\n",
    "modelname = 'ppo-static-city-100m'\n",
    "argmax = False\n",
    "seed=0\n",
    "exp=0"
   ]
  },
  {
   "cell_type": "code",
   "execution_count": 3,
   "metadata": {},
   "outputs": [],
   "source": [
    "path = \"storageloc/MiniGrid-GridCity-4S30Static-v0/0/0\"\n",
    "frames = sorted([int(path) for path in os.listdir(path)  if \".\" not in path], reverse=True)"
   ]
  },
  {
   "cell_type": "code",
   "execution_count": 4,
   "metadata": {},
   "outputs": [],
   "source": [
    "selected_models = []\n",
    "for idx, frame in enumerate(frames):\n",
    "    if idx % 20 == 0:\n",
    "        model_path = path + \"/\" + str(frame)\n",
    "        selected_models.append(model_path)"
   ]
  },
  {
   "cell_type": "code",
   "execution_count": 7,
   "metadata": {},
   "outputs": [
    {
     "ename": "FileExistsError",
     "evalue": "[Errno 17] File exists: './videos/38297600'",
     "output_type": "error",
     "traceback": [
      "\u001b[0;31m---------------------------------------------------------------------------\u001b[0m",
      "\u001b[0;31mFileExistsError\u001b[0m                           Traceback (most recent call last)",
      "\u001b[0;32m<ipython-input-7-ea6a5051f06d>\u001b[0m in \u001b[0;36m<module>\u001b[0;34m()\u001b[0m\n\u001b[1;32m      1\u001b[0m \u001b[0;32mfor\u001b[0m \u001b[0mmodel_path\u001b[0m \u001b[0;32min\u001b[0m \u001b[0mselected_models\u001b[0m\u001b[0;34m:\u001b[0m\u001b[0;34m\u001b[0m\u001b[0m\n\u001b[1;32m      2\u001b[0m     \u001b[0mpath\u001b[0m \u001b[0;34m=\u001b[0m \u001b[0;34m\"./videos/\"\u001b[0m \u001b[0;34m+\u001b[0m \u001b[0mstr\u001b[0m\u001b[0;34m(\u001b[0m\u001b[0mmodel_path\u001b[0m\u001b[0;34m.\u001b[0m\u001b[0msplit\u001b[0m\u001b[0;34m(\u001b[0m\u001b[0;34m\"/\"\u001b[0m\u001b[0;34m)\u001b[0m\u001b[0;34m[\u001b[0m\u001b[0;34m-\u001b[0m\u001b[0;36m1\u001b[0m\u001b[0;34m]\u001b[0m\u001b[0;34m)\u001b[0m\u001b[0;34m\u001b[0m\u001b[0m\n\u001b[0;32m----> 3\u001b[0;31m     \u001b[0mos\u001b[0m\u001b[0;34m.\u001b[0m\u001b[0mmakedirs\u001b[0m\u001b[0;34m(\u001b[0m\u001b[0mpath\u001b[0m\u001b[0;34m)\u001b[0m\u001b[0;34m\u001b[0m\u001b[0m\n\u001b[0m\u001b[1;32m      4\u001b[0m \u001b[0;34m\u001b[0m\u001b[0m\n\u001b[1;32m      5\u001b[0m     \u001b[0;32mwith\u001b[0m \u001b[0mopen\u001b[0m\u001b[0;34m(\u001b[0m\u001b[0mpath\u001b[0m \u001b[0;34m+\u001b[0m \u001b[0;34m\"/results.txt\"\u001b[0m \u001b[0;34m,\u001b[0m \u001b[0;34m'w'\u001b[0m\u001b[0;34m)\u001b[0m \u001b[0;32mas\u001b[0m \u001b[0mf\u001b[0m\u001b[0;34m:\u001b[0m\u001b[0;34m\u001b[0m\u001b[0m\n",
      "\u001b[0;32m~/.pyenv/versions/3.5.2/lib/python3.5/os.py\u001b[0m in \u001b[0;36mmakedirs\u001b[0;34m(name, mode, exist_ok)\u001b[0m\n\u001b[1;32m    239\u001b[0m             \u001b[0;32mreturn\u001b[0m\u001b[0;34m\u001b[0m\u001b[0m\n\u001b[1;32m    240\u001b[0m     \u001b[0;32mtry\u001b[0m\u001b[0;34m:\u001b[0m\u001b[0;34m\u001b[0m\u001b[0m\n\u001b[0;32m--> 241\u001b[0;31m         \u001b[0mmkdir\u001b[0m\u001b[0;34m(\u001b[0m\u001b[0mname\u001b[0m\u001b[0;34m,\u001b[0m \u001b[0mmode\u001b[0m\u001b[0;34m)\u001b[0m\u001b[0;34m\u001b[0m\u001b[0m\n\u001b[0m\u001b[1;32m    242\u001b[0m     \u001b[0;32mexcept\u001b[0m \u001b[0mOSError\u001b[0m\u001b[0;34m:\u001b[0m\u001b[0;34m\u001b[0m\u001b[0m\n\u001b[1;32m    243\u001b[0m         \u001b[0;31m# Cannot rely on checking for EEXIST, since the operating system\u001b[0m\u001b[0;34m\u001b[0m\u001b[0;34m\u001b[0m\u001b[0m\n",
      "\u001b[0;31mFileExistsError\u001b[0m: [Errno 17] File exists: './videos/38297600'"
     ]
    }
   ],
   "source": [
    "for model_path in selected_models:\n",
    "    path = \"./videos/\" + str(model_path.split(\"/\")[-1])\n",
    "    os.makedirs(path)\n",
    "\n",
    "    with open(path + \"/results.txt\" , 'w') as f:\n",
    "        for difficulty in range(1, 10):\n",
    "            diff_path = \"/difficulty_\" + str(difficulty)\n",
    "            full_path = path + diff_path\n",
    "            os.makedirs(full_path)\n",
    "            env = gym.make(envname)\n",
    "            env.set_difficulty(difficulty, weighted=False)\n",
    "            renderer = env.render()\n",
    "            env = wrappers.Monitor(env, full_path, force=True)\n",
    "            obs = env.reset()\n",
    "            agent = utils.Agent(envname, env.observation_space, model_path, argmax)\n",
    "            done = False\n",
    "            success = False\n",
    "            while not done:\n",
    "                action = agent.get_action(obs)\n",
    "                obs, reward, done, info = env.step(action)\n",
    "                text = 'mission=%s, step=%s, reward=%.2f' % (env.unwrapped.mission, env.unwrapped.step_count, reward)\n",
    "                renderer.window.setText(text)\n",
    "                if done and reward:\n",
    "                    success=True\n",
    "                if done:\n",
    "                    renderer.window.close()\n",
    "                    renderer.close()\n",
    "                    renderer = None\n",
    "                    f.write(\"difficulty: \" + str(difficulty) + \", success: \" + str(success) + \"\\n\")\n",
    "\n"
   ]
  },
  {
   "cell_type": "code",
   "execution_count": null,
   "metadata": {},
   "outputs": [],
   "source": []
  },
  {
   "cell_type": "code",
   "execution_count": 5,
   "metadata": {},
   "outputs": [],
   "source": [
    "model_path = \"storageloc/MiniGrid-GridCity-4S30Static-v0/0/0/35430400\""
   ]
  },
  {
   "cell_type": "code",
   "execution_count": 7,
   "metadata": {},
   "outputs": [],
   "source": [
    "path = \"./videos/\" + str(model_path.split(\"/\")[-1])\n",
    "os.makedirs(path)\n",
    "\n",
    "with open(path + \"/results.txt\" , 'w') as f:\n",
    "    for difficulty in range(1, 10):\n",
    "        diff_path = \"/difficulty_\" + str(difficulty)\n",
    "        full_path = path + diff_path\n",
    "        os.makedirs(full_path)\n",
    "        env = gym.make(envname)\n",
    "        env.set_difficulty(difficulty, weighted=False)\n",
    "        renderer = env.render()\n",
    "        env = wrappers.Monitor(env, full_path, force=True)\n",
    "        obs = env.reset()\n",
    "        agent = utils.Agent(envname, env.observation_space, model_path, argmax)\n",
    "        done = False\n",
    "        success = False\n",
    "        while not done:\n",
    "            action = agent.get_action(obs)\n",
    "            obs, reward, done, info = env.step(action)\n",
    "            text = 'mission=%s, step=%s, reward=%.2f' % (env.unwrapped.mission, env.unwrapped.step_count, reward)\n",
    "            renderer.window.setText(text)\n",
    "            if done and reward:\n",
    "                success=True\n",
    "            if done:\n",
    "                renderer.window.close()\n",
    "                renderer.close()\n",
    "                renderer = None\n",
    "                f.write(\"difficulty: \" + str(difficulty) + \", success: \" + str(success) + \"\\n\")\n",
    "\n"
   ]
  },
  {
   "cell_type": "code",
   "execution_count": null,
   "metadata": {},
   "outputs": [],
   "source": []
  }
 ],
 "metadata": {
  "kernelspec": {
   "display_name": "Python 3",
   "language": "python",
   "name": "python3"
  },
  "language_info": {
   "codemirror_mode": {
    "name": "ipython",
    "version": 3
   },
   "file_extension": ".py",
   "mimetype": "text/x-python",
   "name": "python",
   "nbconvert_exporter": "python",
   "pygments_lexer": "ipython3",
   "version": "3.5.2"
  }
 },
 "nbformat": 4,
 "nbformat_minor": 2
}
